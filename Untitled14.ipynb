{
 "cells": [
  {
   "cell_type": "markdown",
   "id": "d1c22bbf",
   "metadata": {},
   "source": [
    "# Q1, Create a vehicle class with an init method having instance variables as name_of_vehicle, max_speed and average_of_vehicle."
   ]
  },
  {
   "cell_type": "code",
   "execution_count": 2,
   "id": "9fc1298c",
   "metadata": {},
   "outputs": [
    {
     "name": "stdout",
     "output_type": "stream",
     "text": [
      "Audi\n",
      "200\n",
      "50\n"
     ]
    }
   ],
   "source": [
    "class Vehicle:\n",
    "    def __init__(self, name_of_vehicle, max_speed, average_of_vehicle):\n",
    "        self.name_of_vehicle = name_of_vehicle\n",
    "        self.max_speed = max_speed\n",
    "        self.average_of_vehicle = average_of_vehicle\n",
    "car = Vehicle(\"Audi\", 200, 50)\n",
    "print(car.name_of_vehicle) \n",
    "print(car.max_speed)  \n",
    "print(car.average_of_vehicle) "
   ]
  },
  {
   "cell_type": "markdown",
   "id": "0702b6ae",
   "metadata": {},
   "source": [
    "# Q2. Create a child class car from the vehicle class created in Que 1, which will inherit the vehicle class.Create a method named seating_capacity which takes capacity as an argument and returns the name of the vehicle and its seating capacity."
   ]
  },
  {
   "cell_type": "code",
   "execution_count": 3,
   "id": "cde2fd02",
   "metadata": {},
   "outputs": [],
   "source": [
    "class Vehicle:\n",
    "    def __init__(self, name, make, model, year):\n",
    "        self.name = name\n",
    "        self.make = make\n",
    "        self.model = model\n",
    "        self.year = year\n",
    "\n",
    "    def get_name(self):\n",
    "        return self.name\n",
    "\n",
    "    def get_make(self):\n",
    "        return self.make\n",
    "\n",
    "    def get_model(self):\n",
    "        return self.model\n",
    "\n",
    "    def get_year(self):\n",
    "        return self.year\n",
    "\n",
    "class Car(Vehicle):\n",
    "    def __init__(self, name, make, model, year, capacity):\n",
    "        super().__init__(name, make, model, year)\n",
    "        self.capacity = capacity\n",
    "\n",
    "    def seating_capacity(self):\n",
    "        return f\"The {self.name} has a seating capacity of {self.capacity}.\"\n",
    "\n"
   ]
  },
  {
   "cell_type": "code",
   "execution_count": 4,
   "id": "9ad34246",
   "metadata": {},
   "outputs": [
    {
     "name": "stdout",
     "output_type": "stream",
     "text": [
      "The Honda Civic has a seating capacity of 5.\n"
     ]
    }
   ],
   "source": [
    "car = Car(\"Honda Civic\", \"Honda\", \"Civic\", 2023, 5)\n",
    "\n",
    "print(car.seating_capacity())\n"
   ]
  },
  {
   "cell_type": "code",
   "execution_count": null,
   "id": "02a16f2c",
   "metadata": {},
   "outputs": [],
   "source": [
    "# Q3. What is multiple inheritance? Write a python code to demonstrate multiple inheritance."
   ]
  },
  {
   "cell_type": "code",
   "execution_count": null,
   "id": "e7e2c4fa",
   "metadata": {},
   "outputs": [],
   "source": [
    "''' multiple inhetitance :- Multiple inheritance is a feature of some object-oriented programming languages that allows a class to inherit from multiple other classes.\n",
    "This can be useful when a class needs to inherit functionality from multiple different sources.'''"
   ]
  },
  {
   "cell_type": "code",
   "execution_count": 6,
   "id": "f0cfbfa1",
   "metadata": {},
   "outputs": [
    {
     "name": "stdout",
     "output_type": "stream",
     "text": [
      "The vehicle is moving.\n",
      "The four-wheeled vehicle is turning.\n",
      "Honk!\n"
     ]
    }
   ],
   "source": [
    "class Vehicle:\n",
    "    def __init__(self, name):\n",
    "        self.name = name\n",
    "\n",
    "    def move(self):\n",
    "        print(\"The vehicle is moving.\")\n",
    "\n",
    "class FourWheeledVehicle(Vehicle):\n",
    "    def __init__(self, name, number_of_wheels):\n",
    "        super().__init__(name)\n",
    "        self.number_of_wheels = number_of_wheels\n",
    "\n",
    "    def turn(self):\n",
    "        print(\"The four-wheeled vehicle is turning.\")\n",
    "\n",
    "class Car(FourWheeledVehicle):\n",
    "    def __init__(self, name, number_of_wheels, make):\n",
    "        super().__init__(name, number_of_wheels)\n",
    "        self.make = make\n",
    "\n",
    "    def honk(self):\n",
    "        print(\"Honk!\")\n",
    "\n",
    "car = Car(\"Honda Civic\", 4, \"Honda\")\n",
    "\n",
    "car.move()\n",
    "car.turn()\n",
    "car.honk()\n"
   ]
  },
  {
   "cell_type": "markdown",
   "id": "1b9cd39f",
   "metadata": {},
   "source": [
    " # Q4. What are getter and setter in python? Create a class and create a getter and a setter method in this class."
   ]
  },
  {
   "cell_type": "code",
   "execution_count": null,
   "id": "c05ec4c4",
   "metadata": {},
   "outputs": [],
   "source": [
    "'''getter and setter :-Getters and setters are methods in Python that allow you to access and modify the attributes of an object. Getters are used to retrieve the value of an attribute, while setters are used to set the value of an attribute.\n",
    "'''"
   ]
  },
  {
   "cell_type": "code",
   "execution_count": 9,
   "id": "b0aa458e",
   "metadata": {},
   "outputs": [],
   "source": [
    "class Person:\n",
    "\n",
    "    def __init__(self, name):\n",
    "        self._name = name\n",
    "\n",
    "    @property\n",
    "    def name(self):\n",
    "        return self._name\n",
    "\n",
    "    @name.setter\n",
    "    def name(self, new_name):\n",
    "        self._name = new_name\n"
   ]
  },
  {
   "cell_type": "code",
   "execution_count": 13,
   "id": "f662b2c4",
   "metadata": {},
   "outputs": [],
   "source": [
    "person = Person(\"John Doe\")\n",
    "name = person.name\n",
    "person.name = \"Jane Doe\"\n"
   ]
  },
  {
   "cell_type": "markdown",
   "id": "068cad8b",
   "metadata": {},
   "source": [
    "# Q5.What is method overriding in python? Write a python code to demonstrate method overriding."
   ]
  },
  {
   "cell_type": "code",
   "execution_count": null,
   "id": "025eb0a4",
   "metadata": {},
   "outputs": [],
   "source": [
    "'''Method overriding is a feature in object-oriented programming (OOP) that allows a subclass to provide a different implementation for a method that is already defined in its superclass.\n",
    "This can be useful for providing more specialized or customized behavior for a particular subclass.\n",
    "'''"
   ]
  },
  {
   "cell_type": "code",
   "execution_count": 32,
   "id": "2257a8cf",
   "metadata": {},
   "outputs": [
    {
     "name": "stdout",
     "output_type": "stream",
     "text": [
      "i am ranjeet kumar \n",
      "course data science\n",
      "mentor name sudh sir\n"
     ]
    }
   ],
   "source": [
    "class pw:\n",
    "    def speak(self):\n",
    "        print(\"i am ranjeet kumar \")\n",
    "\n",
    "class detail(pw):\n",
    "    def speak(self):\n",
    "        print(\"course data science\")\n",
    "\n",
    "class mentor_name(pw):\n",
    "    def speak(self):\n",
    "        print(\"mentor name sudh sir\")\n",
    "\n",
    "pw = pw()\n",
    "detail = detail()\n",
    "mentor_name = mentor_name()\n",
    "\n",
    "pw.speak()\n",
    "detail.speak()\n",
    "mentor_name.speak()"
   ]
  },
  {
   "cell_type": "code",
   "execution_count": null,
   "id": "b40449fb",
   "metadata": {},
   "outputs": [],
   "source": []
  }
 ],
 "metadata": {
  "kernelspec": {
   "display_name": "Python 3 (ipykernel)",
   "language": "python",
   "name": "python3"
  },
  "language_info": {
   "codemirror_mode": {
    "name": "ipython",
    "version": 3
   },
   "file_extension": ".py",
   "mimetype": "text/x-python",
   "name": "python",
   "nbconvert_exporter": "python",
   "pygments_lexer": "ipython3",
   "version": "3.9.13"
  }
 },
 "nbformat": 4,
 "nbformat_minor": 5
}
